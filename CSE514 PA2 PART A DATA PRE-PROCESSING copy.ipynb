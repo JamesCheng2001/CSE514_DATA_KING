{
 "cells": [
  {
   "cell_type": "markdown",
   "id": "ef7e7ae4",
   "metadata": {},
   "source": [
    "To create three binary classification problems from your dataset, we will need to select three different target variables and process the rest of the dataset to use as features. We can convert categorical data into numerical data using one-hot encoding, which transforms each category value into a new binary column (0 or 1)."
   ]
  },
  {
   "cell_type": "markdown",
   "id": "ad536bd2",
   "metadata": {},
   "source": [
    "The three target variables I select are G3 (final grade), school (which school the student attended), and internet (whether the student has internet access at home). We will create binary classes for these variables as follows:"
   ]
  },
  {
   "cell_type": "code",
   "execution_count": 1,
   "id": "34e6a94f",
   "metadata": {},
   "outputs": [],
   "source": [
    "import pandas as pd\n",
    "\n",
    "# Load the data\n",
    "file_path = '/Users/jamescheng/Desktop/WASHU/CSE 514/student+performance/student/student-mat.csv'\n",
    "data = pd.read_csv(file_path, delimiter=';')\n",
    "\n",
    "# One-hot encoding for categorical variables except for our binary targets\n",
    "features = pd.get_dummies(data.drop(['G3', 'school', 'internet'], axis=1))\n",
    "\n",
    "# Binary classification problem 1: Predicting high/low grade based on median G3 value\n",
    "median_g3 = data['G3'].median()\n",
    "data['high_performance'] = (data['G3'] > median_g3).astype(int)\n",
    "\n",
    "# Binary classification problem 2: Predicting school (already binary, just encode directly)\n",
    "data['school_binary'] = (data['school'] == 'GP').astype(int)\n",
    "\n",
    "# Binary classification problem 3: Predicting internet access\n",
    "data['internet_binary'] = (data['internet'] == 'yes').astype(int)\n",
    "\n",
    "# The target variables are now 'high_performance', 'school_binary', 'internet_binary'\n",
    "targets = data[['high_performance', 'school_binary', 'internet_binary']]"
   ]
  },
  {
   "cell_type": "markdown",
   "id": "c340db2d",
   "metadata": {},
   "source": [
    "In this process:\n",
    "\n",
    "1. I used get_dummies to one-hot encode the categorical features.\n",
    "2. I derived binary targets from G3, school, and internet to set up three different binary classification problems."
   ]
  }
 ],
 "metadata": {
  "kernelspec": {
   "display_name": "Python 3 (ipykernel)",
   "language": "python",
   "name": "python3"
  },
  "language_info": {
   "codemirror_mode": {
    "name": "ipython",
    "version": 3
   },
   "file_extension": ".py",
   "mimetype": "text/x-python",
   "name": "python",
   "nbconvert_exporter": "python",
   "pygments_lexer": "ipython3",
   "version": "3.11.5"
  }
 },
 "nbformat": 4,
 "nbformat_minor": 5
}
